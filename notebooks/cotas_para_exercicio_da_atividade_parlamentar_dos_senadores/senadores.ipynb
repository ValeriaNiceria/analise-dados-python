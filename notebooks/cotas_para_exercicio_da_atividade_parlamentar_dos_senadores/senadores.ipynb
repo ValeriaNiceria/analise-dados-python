{
 "cells": [
  {
   "cell_type": "markdown",
   "metadata": {},
   "source": [
    "# Análise dos dados de reembolso dos senadores - 2018"
   ]
  },
  {
   "cell_type": "code",
   "execution_count": 3,
   "metadata": {},
   "outputs": [],
   "source": [
    "# Importando as bibliotecas\n",
    "import pandas as pd"
   ]
  },
  {
   "cell_type": "code",
   "execution_count": 11,
   "metadata": {},
   "outputs": [],
   "source": [
    "# Carregando o arquivo csv\n",
    "df = pd.read_csv('dados/2018.csv', sep=',', encoding='latin1')"
   ]
  },
  {
   "cell_type": "code",
   "execution_count": 12,
   "metadata": {},
   "outputs": [
    {
     "data": {
      "text/html": [
       "<div>\n",
       "<style scoped>\n",
       "    .dataframe tbody tr th:only-of-type {\n",
       "        vertical-align: middle;\n",
       "    }\n",
       "\n",
       "    .dataframe tbody tr th {\n",
       "        vertical-align: top;\n",
       "    }\n",
       "\n",
       "    .dataframe thead th {\n",
       "        text-align: right;\n",
       "    }\n",
       "</style>\n",
       "<table border=\"1\" class=\"dataframe\">\n",
       "  <thead>\n",
       "    <tr style=\"text-align: right;\">\n",
       "      <th></th>\n",
       "      <th>ANO</th>\n",
       "      <th>MES</th>\n",
       "      <th>SENADOR</th>\n",
       "      <th>TIPO_DESPESA</th>\n",
       "      <th>CNPJ_CPF</th>\n",
       "      <th>FORNECEDOR</th>\n",
       "      <th>DOCUMENTO</th>\n",
       "      <th>DATA</th>\n",
       "      <th>DETALHAMENTO</th>\n",
       "      <th>VALOR_REEMBOLSADO</th>\n",
       "    </tr>\n",
       "  </thead>\n",
       "  <tbody>\n",
       "    <tr>\n",
       "      <th>0</th>\n",
       "      <td>2018.0</td>\n",
       "      <td>1.0</td>\n",
       "      <td>ACIR GURGACZ</td>\n",
       "      <td>Aluguel de imï¿½veis para escritï¿½rio polï¿½t...</td>\n",
       "      <td>004.948.028-63</td>\n",
       "      <td>GILBERTO PISELO DO NASCIMENTO</td>\n",
       "      <td>NaN</td>\n",
       "      <td>02/01/2018</td>\n",
       "      <td>Despesa com pagamento de aluguel de imï¿½vel p...</td>\n",
       "      <td>6000</td>\n",
       "    </tr>\n",
       "    <tr>\n",
       "      <th>1</th>\n",
       "      <td>2018.0</td>\n",
       "      <td>1.0</td>\n",
       "      <td>ACIR GURGACZ</td>\n",
       "      <td>Passagens aï¿½reas, aquï¿½ticas e terrestres n...</td>\n",
       "      <td>63.764.211/0001-10</td>\n",
       "      <td>TRANSCONTINENTAL AGï¿½NCIA DE VIAGENS LTDA</td>\n",
       "      <td>M2CJMM</td>\n",
       "      <td>02/01/2018</td>\n",
       "      <td>Companhia Aï¿½rea: AVIANCA, Localizador: M2CJM...</td>\n",
       "      <td>274,99</td>\n",
       "    </tr>\n",
       "    <tr>\n",
       "      <th>2</th>\n",
       "      <td>2018.0</td>\n",
       "      <td>1.0</td>\n",
       "      <td>ACIR GURGACZ</td>\n",
       "      <td>Passagens aï¿½reas, aquï¿½ticas e terrestres n...</td>\n",
       "      <td>63.764.211/0001-10</td>\n",
       "      <td>TRANSCONTINENTAL AGï¿½NCIA DE VIAGENS LTDA</td>\n",
       "      <td>SFEXYF</td>\n",
       "      <td>02/01/2018</td>\n",
       "      <td>Companhia Aï¿½rea: LATAM, Localizador: SFEXYF....</td>\n",
       "      <td>1094,29</td>\n",
       "    </tr>\n",
       "    <tr>\n",
       "      <th>3</th>\n",
       "      <td>2018.0</td>\n",
       "      <td>1.0</td>\n",
       "      <td>ACIR GURGACZ</td>\n",
       "      <td>Passagens aï¿½reas, aquï¿½ticas e terrestres n...</td>\n",
       "      <td>63.764.211/0001-10</td>\n",
       "      <td>TRANSCONTINENTAL AGï¿½NCIA DE VIAGENS LTDA</td>\n",
       "      <td>V64HTR</td>\n",
       "      <td>24/01/2018</td>\n",
       "      <td>Companhia Aï¿½rea: AZUL, Localizador: V64HTR. ...</td>\n",
       "      <td>1553,99</td>\n",
       "    </tr>\n",
       "    <tr>\n",
       "      <th>4</th>\n",
       "      <td>2018.0</td>\n",
       "      <td>2.0</td>\n",
       "      <td>ACIR GURGACZ</td>\n",
       "      <td>Aluguel de imï¿½veis para escritï¿½rio polï¿½t...</td>\n",
       "      <td>004.948.028-63</td>\n",
       "      <td>GILBERTO PISELO DO NASCIMENTO</td>\n",
       "      <td>002/18</td>\n",
       "      <td>01/02/2018</td>\n",
       "      <td>Despesa com pagamento de aluguel de imï¿½vel p...</td>\n",
       "      <td>6000</td>\n",
       "    </tr>\n",
       "  </tbody>\n",
       "</table>\n",
       "</div>"
      ],
      "text/plain": [
       "      ANO  MES       SENADOR  \\\n",
       "0  2018.0  1.0  ACIR GURGACZ   \n",
       "1  2018.0  1.0  ACIR GURGACZ   \n",
       "2  2018.0  1.0  ACIR GURGACZ   \n",
       "3  2018.0  1.0  ACIR GURGACZ   \n",
       "4  2018.0  2.0  ACIR GURGACZ   \n",
       "\n",
       "                                        TIPO_DESPESA            CNPJ_CPF  \\\n",
       "0  Aluguel de imï¿½veis para escritï¿½rio polï¿½t...      004.948.028-63   \n",
       "1  Passagens aï¿½reas, aquï¿½ticas e terrestres n...  63.764.211/0001-10   \n",
       "2  Passagens aï¿½reas, aquï¿½ticas e terrestres n...  63.764.211/0001-10   \n",
       "3  Passagens aï¿½reas, aquï¿½ticas e terrestres n...  63.764.211/0001-10   \n",
       "4  Aluguel de imï¿½veis para escritï¿½rio polï¿½t...      004.948.028-63   \n",
       "\n",
       "                                   FORNECEDOR DOCUMENTO        DATA  \\\n",
       "0               GILBERTO PISELO DO NASCIMENTO       NaN  02/01/2018   \n",
       "1  TRANSCONTINENTAL AGï¿½NCIA DE VIAGENS LTDA    M2CJMM  02/01/2018   \n",
       "2  TRANSCONTINENTAL AGï¿½NCIA DE VIAGENS LTDA    SFEXYF  02/01/2018   \n",
       "3  TRANSCONTINENTAL AGï¿½NCIA DE VIAGENS LTDA    V64HTR  24/01/2018   \n",
       "4               GILBERTO PISELO DO NASCIMENTO    002/18  01/02/2018   \n",
       "\n",
       "                                        DETALHAMENTO VALOR_REEMBOLSADO  \n",
       "0  Despesa com pagamento de aluguel de imï¿½vel p...              6000  \n",
       "1  Companhia Aï¿½rea: AVIANCA, Localizador: M2CJM...            274,99  \n",
       "2  Companhia Aï¿½rea: LATAM, Localizador: SFEXYF....           1094,29  \n",
       "3  Companhia Aï¿½rea: AZUL, Localizador: V64HTR. ...           1553,99  \n",
       "4  Despesa com pagamento de aluguel de imï¿½vel p...              6000  "
      ]
     },
     "execution_count": 12,
     "metadata": {},
     "output_type": "execute_result"
    }
   ],
   "source": [
    "df.head()"
   ]
  },
  {
   "cell_type": "code",
   "execution_count": null,
   "metadata": {},
   "outputs": [],
   "source": []
  }
 ],
 "metadata": {
  "kernelspec": {
   "display_name": "Python 3",
   "language": "python",
   "name": "python3"
  },
  "language_info": {
   "codemirror_mode": {
    "name": "ipython",
    "version": 3
   },
   "file_extension": ".py",
   "mimetype": "text/x-python",
   "name": "python",
   "nbconvert_exporter": "python",
   "pygments_lexer": "ipython3",
   "version": "3.7.1"
  }
 },
 "nbformat": 4,
 "nbformat_minor": 2
}
